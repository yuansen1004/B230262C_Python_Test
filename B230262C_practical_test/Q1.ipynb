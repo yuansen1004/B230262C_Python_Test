{
 "cells": [
  {
   "cell_type": "code",
   "execution_count": 1,
   "id": "2426ad63-e152-4dc3-892b-ad6fb4eeb16b",
   "metadata": {},
   "outputs": [
    {
     "name": "stdout",
     "output_type": "stream",
     "text": [
      "\n",
      "        ------\n",
      "        |    |\n",
      "        |\n",
      "        |\n",
      "        |\n",
      "        |\n",
      "        |\n",
      "        --------\n",
      "        \n",
      "Current word:  _ _ _ _ _ _ _ _\n",
      "Incorrect guesses: 0\n"
     ]
    },
    {
     "name": "stdin",
     "output_type": "stream",
     "text": [
      "Guess a letter:  q\n"
     ]
    },
    {
     "name": "stdout",
     "output_type": "stream",
     "text": [
      "\n",
      "        ------\n",
      "        |    |\n",
      "        |\n",
      "        |\n",
      "        |\n",
      "        |\n",
      "        |\n",
      "        --------\n",
      "        \n",
      "Current word:  Q _ _ _ _ _ _ _\n",
      "Incorrect guesses: 0\n"
     ]
    },
    {
     "name": "stdin",
     "output_type": "stream",
     "text": [
      "Guess a letter:  u\n"
     ]
    },
    {
     "name": "stdout",
     "output_type": "stream",
     "text": [
      "\n",
      "        ------\n",
      "        |    |\n",
      "        |\n",
      "        |\n",
      "        |\n",
      "        |\n",
      "        |\n",
      "        --------\n",
      "        \n",
      "Current word:  Q U _ _ _ _ _ _\n",
      "Incorrect guesses: 0\n"
     ]
    },
    {
     "name": "stdin",
     "output_type": "stream",
     "text": [
      "Guess a letter:  e\n"
     ]
    },
    {
     "name": "stdout",
     "output_type": "stream",
     "text": [
      "\n",
      "        ------\n",
      "        |    |\n",
      "        |\n",
      "        |\n",
      "        |\n",
      "        |\n",
      "        |\n",
      "        --------\n",
      "        \n",
      "Current word:  Q U E _ _ _ _ _\n",
      "Incorrect guesses: 0\n"
     ]
    },
    {
     "name": "stdin",
     "output_type": "stream",
     "text": [
      "Guess a letter:  s\n"
     ]
    },
    {
     "name": "stdout",
     "output_type": "stream",
     "text": [
      "\n",
      "        ------\n",
      "        |    |\n",
      "        |\n",
      "        |\n",
      "        |\n",
      "        |\n",
      "        |\n",
      "        --------\n",
      "        \n",
      "Current word:  Q U E S _ _ _ _\n",
      "Incorrect guesses: 0\n"
     ]
    },
    {
     "name": "stdin",
     "output_type": "stream",
     "text": [
      "Guess a letter:  e\n"
     ]
    },
    {
     "name": "stdout",
     "output_type": "stream",
     "text": [
      "You already guessed that letter.\n",
      "\n",
      "        ------\n",
      "        |    |\n",
      "        |\n",
      "        |\n",
      "        |\n",
      "        |\n",
      "        |\n",
      "        --------\n",
      "        \n",
      "Current word:  Q U E S _ _ _ _\n",
      "Incorrect guesses: 0\n"
     ]
    },
    {
     "name": "stdin",
     "output_type": "stream",
     "text": [
      "Guess a letter:  w\n"
     ]
    },
    {
     "name": "stdout",
     "output_type": "stream",
     "text": [
      "\n",
      "        ------\n",
      "        |    |\n",
      "        |    O\n",
      "        |\n",
      "        |\n",
      "        |\n",
      "        |\n",
      "        --------\n",
      "        \n",
      "Current word:  Q U E S _ _ _ _\n",
      "Incorrect guesses: 1\n"
     ]
    },
    {
     "name": "stdin",
     "output_type": "stream",
     "text": [
      "Guess a letter:  d\n"
     ]
    },
    {
     "name": "stdout",
     "output_type": "stream",
     "text": [
      "\n",
      "        ------\n",
      "        |    |\n",
      "        |    O\n",
      "        |    |\n",
      "        |\n",
      "        |\n",
      "        |\n",
      "        --------\n",
      "        \n",
      "Current word:  Q U E S _ _ _ _\n",
      "Incorrect guesses: 2\n"
     ]
    },
    {
     "name": "stdin",
     "output_type": "stream",
     "text": [
      "Guess a letter:  c\n"
     ]
    },
    {
     "name": "stdout",
     "output_type": "stream",
     "text": [
      "\n",
      "        ------\n",
      "        |    |\n",
      "        |    O\n",
      "        |   /|\n",
      "        |\n",
      "        |\n",
      "        |\n",
      "        --------\n",
      "        \n",
      "Current word:  Q U E S _ _ _ _\n",
      "Incorrect guesses: 3\n"
     ]
    },
    {
     "name": "stdin",
     "output_type": "stream",
     "text": [
      "Guess a letter:  v\n"
     ]
    },
    {
     "name": "stdout",
     "output_type": "stream",
     "text": [
      "\n",
      "        ------\n",
      "        |    |\n",
      "        |    O\n",
      "        |   /|\\\n",
      "        |\n",
      "        |\n",
      "        |\n",
      "        --------\n",
      "        \n",
      "Current word:  Q U E S _ _ _ _\n",
      "Incorrect guesses: 4\n"
     ]
    },
    {
     "name": "stdin",
     "output_type": "stream",
     "text": [
      "Guess a letter:  b\n"
     ]
    },
    {
     "name": "stdout",
     "output_type": "stream",
     "text": [
      "\n",
      "        ------\n",
      "        |    |\n",
      "        |    O\n",
      "        |   /|\\\n",
      "        |   /\n",
      "        |\n",
      "        |\n",
      "        --------\n",
      "        \n",
      "Current word:  Q U E S _ _ _ _\n",
      "Incorrect guesses: 5\n"
     ]
    },
    {
     "name": "stdin",
     "output_type": "stream",
     "text": [
      "Guess a letter:  t\n"
     ]
    },
    {
     "name": "stdout",
     "output_type": "stream",
     "text": [
      "\n",
      "        ------\n",
      "        |    |\n",
      "        |    O\n",
      "        |   /|\\\n",
      "        |   /\n",
      "        |\n",
      "        |\n",
      "        --------\n",
      "        \n",
      "Current word:  Q U E S T _ _ _\n",
      "Incorrect guesses: 5\n"
     ]
    },
    {
     "name": "stdin",
     "output_type": "stream",
     "text": [
      "Guess a letter:  i\n"
     ]
    },
    {
     "name": "stdout",
     "output_type": "stream",
     "text": [
      "\n",
      "        ------\n",
      "        |    |\n",
      "        |    O\n",
      "        |   /|\\\n",
      "        |   /\n",
      "        |\n",
      "        |\n",
      "        --------\n",
      "        \n",
      "Current word:  Q U E S T I _ _\n",
      "Incorrect guesses: 5\n"
     ]
    },
    {
     "name": "stdin",
     "output_type": "stream",
     "text": [
      "Guess a letter:  o\n"
     ]
    },
    {
     "name": "stdout",
     "output_type": "stream",
     "text": [
      "\n",
      "        ------\n",
      "        |    |\n",
      "        |    O\n",
      "        |   /|\\\n",
      "        |   /\n",
      "        |\n",
      "        |\n",
      "        --------\n",
      "        \n",
      "Current word:  Q U E S T I O _\n",
      "Incorrect guesses: 5\n"
     ]
    },
    {
     "name": "stdin",
     "output_type": "stream",
     "text": [
      "Guess a letter:  n\n"
     ]
    },
    {
     "name": "stdout",
     "output_type": "stream",
     "text": [
      "Congratulations! You guessed the word: QUESTION\n"
     ]
    }
   ],
   "source": [
    "import random\n",
    "\n",
    "def hangman():\n",
    "    words = [\"programming\", \"hangman\", \"practical\", \"question\", \"answers\"]\n",
    "\n",
    "    word = random.choice(words).upper()\n",
    "\n",
    "    word_display = [\"_\"] * len(word)\n",
    "    incorrect_guesses = 0\n",
    "    max_incorrect_guesses = 6\n",
    "    guessed_letters = []\n",
    "\n",
    "    hangman_stages = [\n",
    "        \"\"\"\n",
    "        ------\n",
    "        |    |\n",
    "        |\n",
    "        |\n",
    "        |\n",
    "        |\n",
    "        |\n",
    "        --------\n",
    "        \"\"\",\n",
    "        \"\"\"\n",
    "        ------\n",
    "        |    |\n",
    "        |    O\n",
    "        |\n",
    "        |\n",
    "        |\n",
    "        |\n",
    "        --------\n",
    "        \"\"\",\n",
    "        \"\"\"\n",
    "        ------\n",
    "        |    |\n",
    "        |    O\n",
    "        |    |\n",
    "        |\n",
    "        |\n",
    "        |\n",
    "        --------\n",
    "        \"\"\",\n",
    "        \"\"\"\n",
    "        ------\n",
    "        |    |\n",
    "        |    O\n",
    "        |   /|\n",
    "        |\n",
    "        |\n",
    "        |\n",
    "        --------\n",
    "        \"\"\",\n",
    "        \"\"\"\n",
    "        ------\n",
    "        |    |\n",
    "        |    O\n",
    "        |   /|\\\\\n",
    "        |\n",
    "        |\n",
    "        |\n",
    "        --------\n",
    "        \"\"\",\n",
    "        \"\"\"\n",
    "        ------\n",
    "        |    |\n",
    "        |    O\n",
    "        |   /|\\\\\n",
    "        |   /\n",
    "        |\n",
    "        |\n",
    "        --------\n",
    "        \"\"\",\n",
    "        \"\"\"\n",
    "        ------\n",
    "        |    |\n",
    "        |    O\n",
    "        |   /|\\\\\n",
    "        |   / \\\\\n",
    "        |\n",
    "        |\n",
    "        --------\n",
    "        \"\"\",\n",
    "    ]\n",
    "\n",
    "    while incorrect_guesses < max_incorrect_guesses and \"_\" in word_display:\n",
    "        print(hangman_stages[incorrect_guesses])\n",
    "        print(\"Current word: \", \" \".join(word_display))\n",
    "        print(f\"Incorrect guesses: {incorrect_guesses}\")\n",
    "\n",
    "        guess = input(\"Guess a letter: \").upper()\n",
    "\n",
    "        if guess in guessed_letters:\n",
    "            print(\"You already guessed that letter.\")\n",
    "            continue\n",
    "\n",
    "        guessed_letters.append(guess)\n",
    "\n",
    "        if guess in word:\n",
    "            for index, letter in enumerate(word):\n",
    "                if letter == guess:\n",
    "                    word_display[index] = guess\n",
    "        else:\n",
    "            incorrect_guesses += 1\n",
    "\n",
    "    if \"_\" not in word_display:\n",
    "        print(\"Congratulations! You guessed the word:\", word)\n",
    "    else:\n",
    "        print(hangman_stages[incorrect_guesses])\n",
    "        print(\"Sorry, you ran out of guesses. The word was:\", word)\n",
    "\n",
    "hangman()"
   ]
  },
  {
   "cell_type": "code",
   "execution_count": null,
   "id": "e03c6ed9-0306-4f3e-a207-46dca9d7c27c",
   "metadata": {},
   "outputs": [],
   "source": []
  }
 ],
 "metadata": {
  "kernelspec": {
   "display_name": "Python 3 (ipykernel)",
   "language": "python",
   "name": "python3"
  },
  "language_info": {
   "codemirror_mode": {
    "name": "ipython",
    "version": 3
   },
   "file_extension": ".py",
   "mimetype": "text/x-python",
   "name": "python",
   "nbconvert_exporter": "python",
   "pygments_lexer": "ipython3",
   "version": "3.11.7"
  }
 },
 "nbformat": 4,
 "nbformat_minor": 5
}
